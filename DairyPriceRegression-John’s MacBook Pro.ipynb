{
 "cells": [
  {
   "cell_type": "markdown",
   "metadata": {},
   "source": [
    "## Tuning Steps\n",
    "\n",
    "* Nodes\n",
    "* Learning rate\n",
    "* batch sizes\n",
    "* epochs"
   ]
  },
  {
   "cell_type": "markdown",
   "metadata": {},
   "source": [
    "# Milk Price Predictions\n",
    "## Import libraries"
   ]
  },
  {
   "cell_type": "code",
   "execution_count": 1,
   "metadata": {},
   "outputs": [
    {
     "name": "stderr",
     "output_type": "stream",
     "text": [
      "Using TensorFlow backend.\n"
     ]
    }
   ],
   "source": [
    "import pandas as pd\n",
    "import numpy as np\n",
    "import random\n",
    "import time\n",
    "import matplotlib.pyplot as plt\n",
    "from collections import deque\n",
    "from sklearn.preprocessing import MinMaxScaler, scale, Normalizer\n",
    "import keras\n",
    "from keras.regularizers import l1, l2\n",
    "from keras.layers import Dense, CuDNNLSTM, LSTM, Dropout, BatchNormalization, Flatten\n",
    "from keras.models import Sequential\n",
    "from keras.callbacks import EarlyStopping, TensorBoard, ModelCheckpoint\n",
    "import tensorflow as tf\n",
    "from tensorboard import notebook\n",
    "import warnings\n",
    "warnings.filterwarnings(\"ignore\")"
   ]
  },
  {
   "cell_type": "code",
   "execution_count": 2,
   "metadata": {},
   "outputs": [],
   "source": [
    "tensorboard = TensorBoard(log_dir='logs/{name}')"
   ]
  },
  {
   "cell_type": "markdown",
   "metadata": {},
   "source": [
    "## Supply/Utilization"
   ]
  },
  {
   "cell_type": "code",
   "execution_count": 3,
   "metadata": {},
   "outputs": [],
   "source": [
    "# sup_util = pd.read_csv('SupplyUsage.csv', parse_dates=['Year'], index_col='Year')\n",
    "\n",
    "# #convert columns to integers\n",
    "# for col in sup_util.columns:\n",
    "#     sup_util[col] = sup_util[col].str.replace(',','').astype(int)\n",
    "    \n",
    "# sup_util = sup_util.resample('W').first().interpolate('linear')['20120303':]\n",
    "# sup_util_min = sup_util.index.values.min()\n",
    "# sup_util.head()"
   ]
  },
  {
   "cell_type": "markdown",
   "metadata": {},
   "source": [
    "## Inflation"
   ]
  },
  {
   "cell_type": "code",
   "execution_count": 4,
   "metadata": {},
   "outputs": [
    {
     "data": {
      "text/html": [
       "<div>\n",
       "<style scoped>\n",
       "    .dataframe tbody tr th:only-of-type {\n",
       "        vertical-align: middle;\n",
       "    }\n",
       "\n",
       "    .dataframe tbody tr th {\n",
       "        vertical-align: top;\n",
       "    }\n",
       "\n",
       "    .dataframe thead th {\n",
       "        text-align: right;\n",
       "    }\n",
       "</style>\n",
       "<table border=\"1\" class=\"dataframe\">\n",
       "  <thead>\n",
       "    <tr style=\"text-align: right;\">\n",
       "      <th></th>\n",
       "      <th>YEAR</th>\n",
       "      <th>JAN</th>\n",
       "      <th>FEB</th>\n",
       "      <th>MAR</th>\n",
       "      <th>APR</th>\n",
       "      <th>MAY</th>\n",
       "      <th>JUN</th>\n",
       "      <th>JUL</th>\n",
       "      <th>AUG</th>\n",
       "      <th>SEP</th>\n",
       "      <th>OCT</th>\n",
       "      <th>NOV</th>\n",
       "      <th>DEC</th>\n",
       "    </tr>\n",
       "  </thead>\n",
       "  <tbody>\n",
       "    <tr>\n",
       "      <th>0</th>\n",
       "      <td>1914</td>\n",
       "      <td>2.0</td>\n",
       "      <td>1.0</td>\n",
       "      <td>1.0</td>\n",
       "      <td>0.0</td>\n",
       "      <td>2.1</td>\n",
       "      <td>1.0</td>\n",
       "      <td>1.0</td>\n",
       "      <td>3.0</td>\n",
       "      <td>2.0</td>\n",
       "      <td>1.0</td>\n",
       "      <td>1.0</td>\n",
       "      <td>1.0</td>\n",
       "    </tr>\n",
       "    <tr>\n",
       "      <th>1</th>\n",
       "      <td>1915</td>\n",
       "      <td>1.0</td>\n",
       "      <td>1.0</td>\n",
       "      <td>0.0</td>\n",
       "      <td>2.0</td>\n",
       "      <td>2.0</td>\n",
       "      <td>2.0</td>\n",
       "      <td>1.0</td>\n",
       "      <td>-1.0</td>\n",
       "      <td>-1.0</td>\n",
       "      <td>1.0</td>\n",
       "      <td>1.0</td>\n",
       "      <td>2.0</td>\n",
       "    </tr>\n",
       "    <tr>\n",
       "      <th>2</th>\n",
       "      <td>1916</td>\n",
       "      <td>3.0</td>\n",
       "      <td>4.0</td>\n",
       "      <td>6.1</td>\n",
       "      <td>6.0</td>\n",
       "      <td>5.9</td>\n",
       "      <td>6.9</td>\n",
       "      <td>6.9</td>\n",
       "      <td>7.9</td>\n",
       "      <td>9.9</td>\n",
       "      <td>10.8</td>\n",
       "      <td>11.7</td>\n",
       "      <td>12.6</td>\n",
       "    </tr>\n",
       "    <tr>\n",
       "      <th>3</th>\n",
       "      <td>1917</td>\n",
       "      <td>12.5</td>\n",
       "      <td>15.4</td>\n",
       "      <td>14.3</td>\n",
       "      <td>18.9</td>\n",
       "      <td>19.6</td>\n",
       "      <td>20.4</td>\n",
       "      <td>18.5</td>\n",
       "      <td>19.3</td>\n",
       "      <td>19.8</td>\n",
       "      <td>19.5</td>\n",
       "      <td>17.4</td>\n",
       "      <td>18.1</td>\n",
       "    </tr>\n",
       "    <tr>\n",
       "      <th>4</th>\n",
       "      <td>1918</td>\n",
       "      <td>19.7</td>\n",
       "      <td>17.5</td>\n",
       "      <td>16.7</td>\n",
       "      <td>12.7</td>\n",
       "      <td>13.3</td>\n",
       "      <td>13.1</td>\n",
       "      <td>18.0</td>\n",
       "      <td>18.5</td>\n",
       "      <td>18.0</td>\n",
       "      <td>18.5</td>\n",
       "      <td>20.7</td>\n",
       "      <td>20.4</td>\n",
       "    </tr>\n",
       "  </tbody>\n",
       "</table>\n",
       "</div>"
      ],
      "text/plain": [
       "   YEAR   JAN   FEB   MAR   APR   MAY   JUN   JUL   AUG   SEP   OCT   NOV  \\\n",
       "0  1914   2.0   1.0   1.0   0.0   2.1   1.0   1.0   3.0   2.0   1.0   1.0   \n",
       "1  1915   1.0   1.0   0.0   2.0   2.0   2.0   1.0  -1.0  -1.0   1.0   1.0   \n",
       "2  1916   3.0   4.0   6.1   6.0   5.9   6.9   6.9   7.9   9.9  10.8  11.7   \n",
       "3  1917  12.5  15.4  14.3  18.9  19.6  20.4  18.5  19.3  19.8  19.5  17.4   \n",
       "4  1918  19.7  17.5  16.7  12.7  13.3  13.1  18.0  18.5  18.0  18.5  20.7   \n",
       "\n",
       "    DEC  \n",
       "0   1.0  \n",
       "1   2.0  \n",
       "2  12.6  \n",
       "3  18.1  \n",
       "4  20.4  "
      ]
     },
     "execution_count": 4,
     "metadata": {},
     "output_type": "execute_result"
    }
   ],
   "source": [
    "inflation = pd.read_csv('inflation.csv')\n",
    "inflation.head()"
   ]
  },
  {
   "cell_type": "code",
   "execution_count": 5,
   "metadata": {
    "scrolled": false
   },
   "outputs": [
    {
     "data": {
      "text/html": [
       "<div>\n",
       "<style scoped>\n",
       "    .dataframe tbody tr th:only-of-type {\n",
       "        vertical-align: middle;\n",
       "    }\n",
       "\n",
       "    .dataframe tbody tr th {\n",
       "        vertical-align: top;\n",
       "    }\n",
       "\n",
       "    .dataframe thead th {\n",
       "        text-align: right;\n",
       "    }\n",
       "</style>\n",
       "<table border=\"1\" class=\"dataframe\">\n",
       "  <thead>\n",
       "    <tr style=\"text-align: right;\">\n",
       "      <th></th>\n",
       "      <th>YEAR</th>\n",
       "      <th>JAN</th>\n",
       "      <th>FEB</th>\n",
       "      <th>MAR</th>\n",
       "      <th>APR</th>\n",
       "      <th>MAY</th>\n",
       "      <th>JUN</th>\n",
       "      <th>JUL</th>\n",
       "      <th>AUG</th>\n",
       "      <th>SEP</th>\n",
       "      <th>OCT</th>\n",
       "      <th>NOV</th>\n",
       "      <th>DEC</th>\n",
       "    </tr>\n",
       "  </thead>\n",
       "  <tbody>\n",
       "    <tr>\n",
       "      <th>count</th>\n",
       "      <td>106.000000</td>\n",
       "      <td>106.000000</td>\n",
       "      <td>106.000000</td>\n",
       "      <td>106.000000</td>\n",
       "      <td>106.000000</td>\n",
       "      <td>105.000000</td>\n",
       "      <td>105.000000</td>\n",
       "      <td>105.000000</td>\n",
       "      <td>105.000000</td>\n",
       "      <td>105.000000</td>\n",
       "      <td>105.000000</td>\n",
       "      <td>105.000000</td>\n",
       "      <td>105.000000</td>\n",
       "    </tr>\n",
       "    <tr>\n",
       "      <th>mean</th>\n",
       "      <td>1966.500000</td>\n",
       "      <td>3.222642</td>\n",
       "      <td>3.229245</td>\n",
       "      <td>3.240566</td>\n",
       "      <td>3.255660</td>\n",
       "      <td>3.286667</td>\n",
       "      <td>3.279048</td>\n",
       "      <td>3.256190</td>\n",
       "      <td>3.244762</td>\n",
       "      <td>3.243810</td>\n",
       "      <td>3.236190</td>\n",
       "      <td>3.226667</td>\n",
       "      <td>3.226667</td>\n",
       "    </tr>\n",
       "    <tr>\n",
       "      <th>std</th>\n",
       "      <td>30.743563</td>\n",
       "      <td>4.939217</td>\n",
       "      <td>4.983553</td>\n",
       "      <td>5.043709</td>\n",
       "      <td>5.230535</td>\n",
       "      <td>5.303810</td>\n",
       "      <td>5.326362</td>\n",
       "      <td>5.097698</td>\n",
       "      <td>4.937669</td>\n",
       "      <td>4.895837</td>\n",
       "      <td>4.854521</td>\n",
       "      <td>4.893565</td>\n",
       "      <td>4.869198</td>\n",
       "    </tr>\n",
       "    <tr>\n",
       "      <th>min</th>\n",
       "      <td>1914.000000</td>\n",
       "      <td>-11.100000</td>\n",
       "      <td>-10.200000</td>\n",
       "      <td>-10.300000</td>\n",
       "      <td>-10.800000</td>\n",
       "      <td>-14.100000</td>\n",
       "      <td>-15.800000</td>\n",
       "      <td>-14.900000</td>\n",
       "      <td>-12.800000</td>\n",
       "      <td>-12.500000</td>\n",
       "      <td>-12.100000</td>\n",
       "      <td>-12.100000</td>\n",
       "      <td>-10.800000</td>\n",
       "    </tr>\n",
       "    <tr>\n",
       "      <th>25%</th>\n",
       "      <td>1940.250000</td>\n",
       "      <td>1.300000</td>\n",
       "      <td>1.000000</td>\n",
       "      <td>1.200000</td>\n",
       "      <td>1.100000</td>\n",
       "      <td>1.200000</td>\n",
       "      <td>1.100000</td>\n",
       "      <td>1.300000</td>\n",
       "      <td>1.300000</td>\n",
       "      <td>1.300000</td>\n",
       "      <td>1.300000</td>\n",
       "      <td>1.300000</td>\n",
       "      <td>1.300000</td>\n",
       "    </tr>\n",
       "    <tr>\n",
       "      <th>50%</th>\n",
       "      <td>1966.500000</td>\n",
       "      <td>2.600000</td>\n",
       "      <td>2.650000</td>\n",
       "      <td>2.750000</td>\n",
       "      <td>2.500000</td>\n",
       "      <td>2.800000</td>\n",
       "      <td>2.700000</td>\n",
       "      <td>2.700000</td>\n",
       "      <td>2.700000</td>\n",
       "      <td>2.600000</td>\n",
       "      <td>2.600000</td>\n",
       "      <td>2.600000</td>\n",
       "      <td>2.700000</td>\n",
       "    </tr>\n",
       "    <tr>\n",
       "      <th>75%</th>\n",
       "      <td>1992.750000</td>\n",
       "      <td>4.150000</td>\n",
       "      <td>4.075000</td>\n",
       "      <td>4.675000</td>\n",
       "      <td>4.550000</td>\n",
       "      <td>4.400000</td>\n",
       "      <td>4.700000</td>\n",
       "      <td>4.800000</td>\n",
       "      <td>4.700000</td>\n",
       "      <td>4.700000</td>\n",
       "      <td>4.500000</td>\n",
       "      <td>4.600000</td>\n",
       "      <td>4.100000</td>\n",
       "    </tr>\n",
       "    <tr>\n",
       "      <th>max</th>\n",
       "      <td>2019.000000</td>\n",
       "      <td>19.700000</td>\n",
       "      <td>20.400000</td>\n",
       "      <td>20.100000</td>\n",
       "      <td>21.600000</td>\n",
       "      <td>21.900000</td>\n",
       "      <td>23.700000</td>\n",
       "      <td>19.500000</td>\n",
       "      <td>19.300000</td>\n",
       "      <td>19.800000</td>\n",
       "      <td>19.500000</td>\n",
       "      <td>20.700000</td>\n",
       "      <td>20.400000</td>\n",
       "    </tr>\n",
       "  </tbody>\n",
       "</table>\n",
       "</div>"
      ],
      "text/plain": [
       "              YEAR         JAN         FEB         MAR         APR  \\\n",
       "count   106.000000  106.000000  106.000000  106.000000  106.000000   \n",
       "mean   1966.500000    3.222642    3.229245    3.240566    3.255660   \n",
       "std      30.743563    4.939217    4.983553    5.043709    5.230535   \n",
       "min    1914.000000  -11.100000  -10.200000  -10.300000  -10.800000   \n",
       "25%    1940.250000    1.300000    1.000000    1.200000    1.100000   \n",
       "50%    1966.500000    2.600000    2.650000    2.750000    2.500000   \n",
       "75%    1992.750000    4.150000    4.075000    4.675000    4.550000   \n",
       "max    2019.000000   19.700000   20.400000   20.100000   21.600000   \n",
       "\n",
       "              MAY         JUN         JUL         AUG         SEP         OCT  \\\n",
       "count  105.000000  105.000000  105.000000  105.000000  105.000000  105.000000   \n",
       "mean     3.286667    3.279048    3.256190    3.244762    3.243810    3.236190   \n",
       "std      5.303810    5.326362    5.097698    4.937669    4.895837    4.854521   \n",
       "min    -14.100000  -15.800000  -14.900000  -12.800000  -12.500000  -12.100000   \n",
       "25%      1.200000    1.100000    1.300000    1.300000    1.300000    1.300000   \n",
       "50%      2.800000    2.700000    2.700000    2.700000    2.600000    2.600000   \n",
       "75%      4.400000    4.700000    4.800000    4.700000    4.700000    4.500000   \n",
       "max     21.900000   23.700000   19.500000   19.300000   19.800000   19.500000   \n",
       "\n",
       "              NOV         DEC  \n",
       "count  105.000000  105.000000  \n",
       "mean     3.226667    3.226667  \n",
       "std      4.893565    4.869198  \n",
       "min    -12.100000  -10.800000  \n",
       "25%      1.300000    1.300000  \n",
       "50%      2.600000    2.700000  \n",
       "75%      4.600000    4.100000  \n",
       "max     20.700000   20.400000  "
      ]
     },
     "execution_count": 5,
     "metadata": {},
     "output_type": "execute_result"
    }
   ],
   "source": [
    "inflation.describe()"
   ]
  },
  {
   "cell_type": "code",
   "execution_count": 6,
   "metadata": {},
   "outputs": [
    {
     "name": "stdout",
     "output_type": "stream",
     "text": [
      "<class 'pandas.core.indexes.base.Index'>\n"
     ]
    },
    {
     "data": {
      "text/html": [
       "<div>\n",
       "<style scoped>\n",
       "    .dataframe tbody tr th:only-of-type {\n",
       "        vertical-align: middle;\n",
       "    }\n",
       "\n",
       "    .dataframe tbody tr th {\n",
       "        vertical-align: top;\n",
       "    }\n",
       "\n",
       "    .dataframe thead th {\n",
       "        text-align: right;\n",
       "    }\n",
       "</style>\n",
       "<table border=\"1\" class=\"dataframe\">\n",
       "  <thead>\n",
       "    <tr style=\"text-align: right;\">\n",
       "      <th></th>\n",
       "      <th>inflation</th>\n",
       "    </tr>\n",
       "    <tr>\n",
       "      <th>date</th>\n",
       "      <th></th>\n",
       "    </tr>\n",
       "  </thead>\n",
       "  <tbody>\n",
       "    <tr>\n",
       "      <th>2012-03-04 00:00:00</th>\n",
       "      <td>2.7</td>\n",
       "    </tr>\n",
       "    <tr>\n",
       "      <th>2012-03-11 00:00:00</th>\n",
       "      <td>2.7</td>\n",
       "    </tr>\n",
       "    <tr>\n",
       "      <th>2012-03-18 00:00:00</th>\n",
       "      <td>2.7</td>\n",
       "    </tr>\n",
       "    <tr>\n",
       "      <th>2012-03-25 00:00:00</th>\n",
       "      <td>2.7</td>\n",
       "    </tr>\n",
       "    <tr>\n",
       "      <th>2012-04-01 00:00:00</th>\n",
       "      <td>2.3</td>\n",
       "    </tr>\n",
       "  </tbody>\n",
       "</table>\n",
       "</div>"
      ],
      "text/plain": [
       "                     inflation\n",
       "date                          \n",
       "2012-03-04 00:00:00        2.7\n",
       "2012-03-11 00:00:00        2.7\n",
       "2012-03-18 00:00:00        2.7\n",
       "2012-03-25 00:00:00        2.7\n",
       "2012-04-01 00:00:00        2.3"
      ]
     },
     "execution_count": 6,
     "metadata": {},
     "output_type": "execute_result"
    }
   ],
   "source": [
    "from datetime import datetime\n",
    "inflation_new = pd.melt(inflation, id_vars=['YEAR'], var_name='Month')\n",
    "inflation_new.replace({'Month':{'JAN':1, 'FEB':2, 'MAR':3, 'APR':4, 'MAY':5, 'JUN':6, 'JUL':7, 'AUG':8, 'SEP':9, 'OCT':10, 'NOV':11, 'DEC':12}}, inplace=True)\n",
    "inflation_new['date'] = inflation_new[['YEAR', 'Month']].apply(lambda x: f\"{x['YEAR']}-{x['Month']}\", axis=1)\n",
    "inflation_new['date'] = pd.to_datetime(inflation_new['date'])\n",
    "inflation_new = inflation_new.set_index('date').drop(columns=['YEAR', 'Month'])\n",
    "inflation_new.sort_index(inplace=True)                                                          \n",
    "inflation_new = inflation_new.resample('W').mean().ffill()\n",
    "inflation_new = inflation_new['20120301':]\n",
    "inflation_new.rename(index=str, columns={'value':'inflation'}, inplace=True)\n",
    "print(type(inflation_new.index))                                                                \n",
    "inflation_new.head()"
   ]
  },
  {
   "cell_type": "markdown",
   "metadata": {},
   "source": [
    "## Cheddar\n",
    "### Barrel Cheddar"
   ]
  },
  {
   "cell_type": "code",
   "execution_count": 7,
   "metadata": {},
   "outputs": [
    {
     "name": "stdout",
     "output_type": "stream",
     "text": [
      "<class 'pandas.core.frame.DataFrame'>\n",
      "RangeIndex: 1875 entries, 0 to 1874\n",
      "Data columns (total 7 columns):\n",
      "Week Ending Date                           1875 non-null datetime64[ns]\n",
      "Report Date                                1875 non-null datetime64[ns]\n",
      "Date                                       1875 non-null datetime64[ns]\n",
      "Weighted Price                             1875 non-null float64\n",
      "Weighted Price adjusted to 38% moisture    1875 non-null float64\n",
      "Sales                                      1875 non-null object\n",
      "Moisture Content                           1875 non-null float64\n",
      "dtypes: datetime64[ns](3), float64(3), object(1)\n",
      "memory usage: 102.6+ KB\n"
     ]
    },
    {
     "data": {
      "text/plain": [
       "count                    1875\n",
       "unique                    375\n",
       "top       2013-04-06 00:00:00\n",
       "freq                        5\n",
       "first     2012-03-31 00:00:00\n",
       "last      2019-06-01 00:00:00\n",
       "Name: Week Ending Date, dtype: object"
      ]
     },
     "execution_count": 7,
     "metadata": {},
     "output_type": "execute_result"
    }
   ],
   "source": [
    "barrel_cheddar = pd.read_csv('barrel_cheddar.csv', parse_dates=['Week Ending Date', 'Report Date', 'Date'])\n",
    "barrel_cheddar.info()\n",
    "barrel_cheddar['Week Ending Date'].describe()"
   ]
  },
  {
   "cell_type": "code",
   "execution_count": 8,
   "metadata": {},
   "outputs": [
    {
     "name": "stdout",
     "output_type": "stream",
     "text": [
      "<class 'pandas.core.indexes.datetimes.DatetimeIndex'>\n"
     ]
    },
    {
     "data": {
      "text/html": [
       "<div>\n",
       "<style scoped>\n",
       "    .dataframe tbody tr th:only-of-type {\n",
       "        vertical-align: middle;\n",
       "    }\n",
       "\n",
       "    .dataframe tbody tr th {\n",
       "        vertical-align: top;\n",
       "    }\n",
       "\n",
       "    .dataframe thead th {\n",
       "        text-align: right;\n",
       "    }\n",
       "</style>\n",
       "<table border=\"1\" class=\"dataframe\">\n",
       "  <thead>\n",
       "    <tr style=\"text-align: right;\">\n",
       "      <th></th>\n",
       "      <th>Weighted Price adjusted to 38% moisture</th>\n",
       "      <th>Sales</th>\n",
       "      <th>Moisture Content</th>\n",
       "    </tr>\n",
       "    <tr>\n",
       "      <th>date</th>\n",
       "      <th></th>\n",
       "      <th></th>\n",
       "      <th></th>\n",
       "    </tr>\n",
       "  </thead>\n",
       "  <tbody>\n",
       "    <tr>\n",
       "      <th>2012-03-04</th>\n",
       "      <td>1.50640</td>\n",
       "      <td>10751088.0</td>\n",
       "      <td>34.82</td>\n",
       "    </tr>\n",
       "    <tr>\n",
       "      <th>2012-03-11</th>\n",
       "      <td>1.51460</td>\n",
       "      <td>11239556.0</td>\n",
       "      <td>35.06</td>\n",
       "    </tr>\n",
       "    <tr>\n",
       "      <th>2012-03-18</th>\n",
       "      <td>1.50560</td>\n",
       "      <td>11921822.0</td>\n",
       "      <td>34.70</td>\n",
       "    </tr>\n",
       "    <tr>\n",
       "      <th>2012-03-25</th>\n",
       "      <td>1.55490</td>\n",
       "      <td>9924835.0</td>\n",
       "      <td>34.87</td>\n",
       "    </tr>\n",
       "    <tr>\n",
       "      <th>2012-04-01</th>\n",
       "      <td>1.58986</td>\n",
       "      <td>9851252.2</td>\n",
       "      <td>34.81</td>\n",
       "    </tr>\n",
       "  </tbody>\n",
       "</table>\n",
       "</div>"
      ],
      "text/plain": [
       "            Weighted Price adjusted to 38% moisture       Sales  \\\n",
       "date                                                              \n",
       "2012-03-04                                  1.50640  10751088.0   \n",
       "2012-03-11                                  1.51460  11239556.0   \n",
       "2012-03-18                                  1.50560  11921822.0   \n",
       "2012-03-25                                  1.55490   9924835.0   \n",
       "2012-04-01                                  1.58986   9851252.2   \n",
       "\n",
       "            Moisture Content  \n",
       "date                          \n",
       "2012-03-04             34.82  \n",
       "2012-03-11             35.06  \n",
       "2012-03-18             34.70  \n",
       "2012-03-25             34.87  \n",
       "2012-04-01             34.81  "
      ]
     },
     "execution_count": 8,
     "metadata": {},
     "output_type": "execute_result"
    }
   ],
   "source": [
    "barrel_cheddar.drop(columns=['Week Ending Date', 'Report Date', 'Weighted Price'], inplace=True)\n",
    "barrel_cheddar.set_index('Date', inplace=True)\n",
    "barrel_cheddar.sort_index(inplace=True)\n",
    "barrel_cheddar['Sales'] = barrel_cheddar['Sales'].str.replace(\",\",\"\").astype(int)\n",
    "barrel_cheddar.index.rename('date', inplace=True)\n",
    "barrel_cheddar = barrel_cheddar.resample('W').mean()\n",
    "print(type(barrel_cheddar.index))\n",
    "barrel_cheddar.head()"
   ]
  },
  {
   "cell_type": "code",
   "execution_count": 9,
   "metadata": {},
   "outputs": [
    {
     "name": "stdout",
     "output_type": "stream",
     "text": [
      "<class 'pandas.core.frame.DataFrame'>\n",
      "DatetimeIndex: 379 entries, 2012-03-04 to 2019-06-02\n",
      "Freq: W-SUN\n",
      "Data columns (total 3 columns):\n",
      "Weighted Price adjusted to 38% moisture    379 non-null float64\n",
      "Sales                                      379 non-null float64\n",
      "Moisture Content                           379 non-null float64\n",
      "dtypes: float64(3)\n",
      "memory usage: 11.8 KB\n"
     ]
    }
   ],
   "source": [
    "barrel_cheddar.info()"
   ]
  },
  {
   "cell_type": "markdown",
   "metadata": {},
   "source": [
    "### Block Cheddar"
   ]
  },
  {
   "cell_type": "code",
   "execution_count": 10,
   "metadata": {},
   "outputs": [
    {
     "name": "stdout",
     "output_type": "stream",
     "text": [
      "<class 'pandas.core.indexes.datetimes.DatetimeIndex'>\n"
     ]
    },
    {
     "data": {
      "text/html": [
       "<div>\n",
       "<style scoped>\n",
       "    .dataframe tbody tr th:only-of-type {\n",
       "        vertical-align: middle;\n",
       "    }\n",
       "\n",
       "    .dataframe tbody tr th {\n",
       "        vertical-align: top;\n",
       "    }\n",
       "\n",
       "    .dataframe thead th {\n",
       "        text-align: right;\n",
       "    }\n",
       "</style>\n",
       "<table border=\"1\" class=\"dataframe\">\n",
       "  <thead>\n",
       "    <tr style=\"text-align: right;\">\n",
       "      <th></th>\n",
       "      <th>Sales</th>\n",
       "    </tr>\n",
       "    <tr>\n",
       "      <th>date</th>\n",
       "      <th></th>\n",
       "    </tr>\n",
       "  </thead>\n",
       "  <tbody>\n",
       "    <tr>\n",
       "      <th>2012-03-04</th>\n",
       "      <td>9306594.0</td>\n",
       "    </tr>\n",
       "    <tr>\n",
       "      <th>2012-03-11</th>\n",
       "      <td>9904507.0</td>\n",
       "    </tr>\n",
       "    <tr>\n",
       "      <th>2012-03-18</th>\n",
       "      <td>10257090.0</td>\n",
       "    </tr>\n",
       "    <tr>\n",
       "      <th>2012-03-25</th>\n",
       "      <td>9554443.0</td>\n",
       "    </tr>\n",
       "    <tr>\n",
       "      <th>2012-04-01</th>\n",
       "      <td>9488395.0</td>\n",
       "    </tr>\n",
       "  </tbody>\n",
       "</table>\n",
       "</div>"
      ],
      "text/plain": [
       "                 Sales\n",
       "date                  \n",
       "2012-03-04   9306594.0\n",
       "2012-03-11   9904507.0\n",
       "2012-03-18  10257090.0\n",
       "2012-03-25   9554443.0\n",
       "2012-04-01   9488395.0"
      ]
     },
     "execution_count": 10,
     "metadata": {},
     "output_type": "execute_result"
    }
   ],
   "source": [
    "block_cheddar = pd.read_csv('block_cheddar.csv', parse_dates=['Date'], index_col='Date')\n",
    "block_cheddar.index.rename('date', inplace=True)\n",
    "block_cheddar.drop(columns=['Week Ending Date', 'Report Date', 'Weighted Prices'], inplace=True)\n",
    "block_cheddar.sort_index(inplace=True)\n",
    "block_cheddar['Sales'] = block_cheddar['Sales'].str.replace(',', '').astype(int)\n",
    "block_cheddar = block_cheddar.resample('W').mean()\n",
    "print(type(block_cheddar.index))\n",
    "block_cheddar.head()"
   ]
  },
  {
   "cell_type": "code",
   "execution_count": 11,
   "metadata": {},
   "outputs": [
    {
     "data": {
      "text/html": [
       "<div>\n",
       "<style scoped>\n",
       "    .dataframe tbody tr th:only-of-type {\n",
       "        vertical-align: middle;\n",
       "    }\n",
       "\n",
       "    .dataframe tbody tr th {\n",
       "        vertical-align: top;\n",
       "    }\n",
       "\n",
       "    .dataframe thead th {\n",
       "        text-align: right;\n",
       "    }\n",
       "</style>\n",
       "<table border=\"1\" class=\"dataframe\">\n",
       "  <thead>\n",
       "    <tr style=\"text-align: right;\">\n",
       "      <th></th>\n",
       "      <th>Sales</th>\n",
       "    </tr>\n",
       "  </thead>\n",
       "  <tbody>\n",
       "    <tr>\n",
       "      <th>count</th>\n",
       "      <td>3.790000e+02</td>\n",
       "    </tr>\n",
       "    <tr>\n",
       "      <th>mean</th>\n",
       "      <td>1.187265e+07</td>\n",
       "    </tr>\n",
       "    <tr>\n",
       "      <th>std</th>\n",
       "      <td>1.708327e+06</td>\n",
       "    </tr>\n",
       "    <tr>\n",
       "      <th>min</th>\n",
       "      <td>0.000000e+00</td>\n",
       "    </tr>\n",
       "    <tr>\n",
       "      <th>25%</th>\n",
       "      <td>1.106660e+07</td>\n",
       "    </tr>\n",
       "    <tr>\n",
       "      <th>50%</th>\n",
       "      <td>1.193461e+07</td>\n",
       "    </tr>\n",
       "    <tr>\n",
       "      <th>75%</th>\n",
       "      <td>1.287069e+07</td>\n",
       "    </tr>\n",
       "    <tr>\n",
       "      <th>max</th>\n",
       "      <td>1.616648e+07</td>\n",
       "    </tr>\n",
       "  </tbody>\n",
       "</table>\n",
       "</div>"
      ],
      "text/plain": [
       "              Sales\n",
       "count  3.790000e+02\n",
       "mean   1.187265e+07\n",
       "std    1.708327e+06\n",
       "min    0.000000e+00\n",
       "25%    1.106660e+07\n",
       "50%    1.193461e+07\n",
       "75%    1.287069e+07\n",
       "max    1.616648e+07"
      ]
     },
     "execution_count": 11,
     "metadata": {},
     "output_type": "execute_result"
    }
   ],
   "source": [
    "block_cheddar.describe()"
   ]
  },
  {
   "cell_type": "code",
   "execution_count": 12,
   "metadata": {},
   "outputs": [
    {
     "name": "stdout",
     "output_type": "stream",
     "text": [
      "<class 'pandas.core.frame.DataFrame'>\n",
      "DatetimeIndex: 379 entries, 2012-03-04 to 2019-06-02\n",
      "Freq: W-SUN\n",
      "Data columns (total 1 columns):\n",
      "Sales    379 non-null float64\n",
      "dtypes: float64(1)\n",
      "memory usage: 5.9 KB\n"
     ]
    }
   ],
   "source": [
    "block_cheddar.info()"
   ]
  },
  {
   "cell_type": "markdown",
   "metadata": {},
   "source": [
    " ## Milk Prices"
   ]
  },
  {
   "cell_type": "code",
   "execution_count": 13,
   "metadata": {},
   "outputs": [
    {
     "data": {
      "text/html": [
       "<div>\n",
       "<style scoped>\n",
       "    .dataframe tbody tr th:only-of-type {\n",
       "        vertical-align: middle;\n",
       "    }\n",
       "\n",
       "    .dataframe tbody tr th {\n",
       "        vertical-align: top;\n",
       "    }\n",
       "\n",
       "    .dataframe thead th {\n",
       "        text-align: right;\n",
       "    }\n",
       "</style>\n",
       "<table border=\"1\" class=\"dataframe\">\n",
       "  <thead>\n",
       "    <tr style=\"text-align: right;\">\n",
       "      <th></th>\n",
       "      <th>milk_price</th>\n",
       "    </tr>\n",
       "    <tr>\n",
       "      <th>date</th>\n",
       "      <th></th>\n",
       "    </tr>\n",
       "  </thead>\n",
       "  <tbody>\n",
       "    <tr>\n",
       "      <th>2012-03-04</th>\n",
       "      <td>15.3444</td>\n",
       "    </tr>\n",
       "    <tr>\n",
       "      <th>2012-03-11</th>\n",
       "      <td>14.9400</td>\n",
       "    </tr>\n",
       "    <tr>\n",
       "      <th>2012-03-18</th>\n",
       "      <td>15.6800</td>\n",
       "    </tr>\n",
       "    <tr>\n",
       "      <th>2012-03-25</th>\n",
       "      <td>15.9960</td>\n",
       "    </tr>\n",
       "    <tr>\n",
       "      <th>2012-04-01</th>\n",
       "      <td>15.5324</td>\n",
       "    </tr>\n",
       "  </tbody>\n",
       "</table>\n",
       "</div>"
      ],
      "text/plain": [
       "            milk_price\n",
       "date                  \n",
       "2012-03-04     15.3444\n",
       "2012-03-11     14.9400\n",
       "2012-03-18     15.6800\n",
       "2012-03-25     15.9960\n",
       "2012-04-01     15.5324"
      ]
     },
     "execution_count": 13,
     "metadata": {},
     "output_type": "execute_result"
    }
   ],
   "source": [
    "milk = pd.read_csv('milk-futures.csv', parse_dates=True, index_col='date')\n",
    "milk.columns = ['milk_price']\n",
    "milk = milk.resample('W').mean().loc['20120303':, :]\n",
    "milk.head()"
   ]
  },
  {
   "cell_type": "markdown",
   "metadata": {},
   "source": [
    "## Combine Dataframes"
   ]
  },
  {
   "cell_type": "code",
   "execution_count": 14,
   "metadata": {},
   "outputs": [
    {
     "name": "stdout",
     "output_type": "stream",
     "text": [
      "(379, 3)\n"
     ]
    },
    {
     "data": {
      "text/html": [
       "<div>\n",
       "<style scoped>\n",
       "    .dataframe tbody tr th:only-of-type {\n",
       "        vertical-align: middle;\n",
       "    }\n",
       "\n",
       "    .dataframe tbody tr th {\n",
       "        vertical-align: top;\n",
       "    }\n",
       "\n",
       "    .dataframe thead th {\n",
       "        text-align: right;\n",
       "    }\n",
       "</style>\n",
       "<table border=\"1\" class=\"dataframe\">\n",
       "  <thead>\n",
       "    <tr style=\"text-align: right;\">\n",
       "      <th></th>\n",
       "      <th>Sales_barrel</th>\n",
       "      <th>Sales</th>\n",
       "      <th>milk_price</th>\n",
       "    </tr>\n",
       "    <tr>\n",
       "      <th>date</th>\n",
       "      <th></th>\n",
       "      <th></th>\n",
       "      <th></th>\n",
       "    </tr>\n",
       "  </thead>\n",
       "  <tbody>\n",
       "    <tr>\n",
       "      <th>2012-03-04</th>\n",
       "      <td>9306594.0</td>\n",
       "      <td>10751088.0</td>\n",
       "      <td>15.3444</td>\n",
       "    </tr>\n",
       "    <tr>\n",
       "      <th>2012-03-11</th>\n",
       "      <td>9904507.0</td>\n",
       "      <td>11239556.0</td>\n",
       "      <td>14.9400</td>\n",
       "    </tr>\n",
       "    <tr>\n",
       "      <th>2012-03-18</th>\n",
       "      <td>10257090.0</td>\n",
       "      <td>11921822.0</td>\n",
       "      <td>15.6800</td>\n",
       "    </tr>\n",
       "    <tr>\n",
       "      <th>2012-03-25</th>\n",
       "      <td>9554443.0</td>\n",
       "      <td>9924835.0</td>\n",
       "      <td>15.9960</td>\n",
       "    </tr>\n",
       "    <tr>\n",
       "      <th>2012-04-01</th>\n",
       "      <td>9488395.0</td>\n",
       "      <td>9851252.2</td>\n",
       "      <td>15.5324</td>\n",
       "    </tr>\n",
       "    <tr>\n",
       "      <th>2012-04-08</th>\n",
       "      <td>11320321.8</td>\n",
       "      <td>9863617.6</td>\n",
       "      <td>15.5450</td>\n",
       "    </tr>\n",
       "    <tr>\n",
       "      <th>2012-04-15</th>\n",
       "      <td>10202237.0</td>\n",
       "      <td>11487834.0</td>\n",
       "      <td>15.0400</td>\n",
       "    </tr>\n",
       "    <tr>\n",
       "      <th>2012-04-22</th>\n",
       "      <td>11566744.4</td>\n",
       "      <td>12954622.2</td>\n",
       "      <td>14.9360</td>\n",
       "    </tr>\n",
       "    <tr>\n",
       "      <th>2012-04-29</th>\n",
       "      <td>11686869.0</td>\n",
       "      <td>11603172.8</td>\n",
       "      <td>14.7392</td>\n",
       "    </tr>\n",
       "    <tr>\n",
       "      <th>2012-05-06</th>\n",
       "      <td>10486794.4</td>\n",
       "      <td>9636960.8</td>\n",
       "      <td>14.4068</td>\n",
       "    </tr>\n",
       "  </tbody>\n",
       "</table>\n",
       "</div>"
      ],
      "text/plain": [
       "            Sales_barrel       Sales  milk_price\n",
       "date                                            \n",
       "2012-03-04     9306594.0  10751088.0     15.3444\n",
       "2012-03-11     9904507.0  11239556.0     14.9400\n",
       "2012-03-18    10257090.0  11921822.0     15.6800\n",
       "2012-03-25     9554443.0   9924835.0     15.9960\n",
       "2012-04-01     9488395.0   9851252.2     15.5324\n",
       "2012-04-08    11320321.8   9863617.6     15.5450\n",
       "2012-04-15    10202237.0  11487834.0     15.0400\n",
       "2012-04-22    11566744.4  12954622.2     14.9360\n",
       "2012-04-29    11686869.0  11603172.8     14.7392\n",
       "2012-05-06    10486794.4   9636960.8     14.4068"
      ]
     },
     "execution_count": 14,
     "metadata": {},
     "output_type": "execute_result"
    }
   ],
   "source": [
    "df_og = block_cheddar.join(barrel_cheddar, lsuffix='_barrel').join(milk).drop(columns=['Weighted Price adjusted to 38% moisture', 'Moisture Content'])\n",
    "print(df_og.shape)\n",
    "df_og.head(10)"
   ]
  },
  {
   "cell_type": "code",
   "execution_count": 15,
   "metadata": {},
   "outputs": [],
   "source": [
    "def to_supervised(data, n_input=1, n_output=1, drop_na=True):\n",
    "    '''\n",
    "    Converts data into a Pandas DataFrame that is suited for time series forecasting:\n",
    "        data:\n",
    "        n_in: number of lag observations\n",
    "        n_out: number of observations as output\n",
    "        drop_na: Drop NaN values that are generated by the function\n",
    "    '''\n",
    "    #number of features\n",
    "    n_vars = 1 if type(data) is list else data.shape[1] #the second element is the number of features\n",
    "    df = pd.DataFrame(data) # instantiate an empty DataFrame\n",
    "    cols, names = [], []\n",
    "    #input sequence t-1....t-n\n",
    "    #takes n_inputs as the number of past observations\n",
    "    for i in range(n_input, 0, -1):\n",
    "        cols.append(df.shift(i))\n",
    "        names += [('var%d(t-%d)' % (j+1, i)) for j in range(n_vars)]\n",
    "    #output sequences t, t+1.... t+n\n",
    "    for i in range(0, n_output):\n",
    "        cols.append(df.shift(-i))\n",
    "        if i == 0:\n",
    "            names += [('var%d(t)' % (j+1)) for j in range(n_vars)]\n",
    "        else:\n",
    "            names += [('var%d(t+%d)' % (j+1, i)) for j in range(n_vars)]\n",
    "    #put the DataFrame together\n",
    "    agg = pd.concat(cols, axis=1)\n",
    "    agg.columns = names\n",
    "    if drop_na:\n",
    "        agg.dropna(inplace=True)\n",
    "    return agg"
   ]
  },
  {
   "cell_type": "code",
   "execution_count": 16,
   "metadata": {},
   "outputs": [
    {
     "name": "stdout",
     "output_type": "stream",
     "text": [
      "[[0.57567211 0.7138949  0.24547264]\n",
      " [0.61265684 0.7463302  0.2119403 ]\n",
      " [0.63446634 0.7916341  0.27330017]\n",
      " [0.59100315 0.65902996 0.29950249]\n",
      " [0.58691766 0.65414391 0.26106136]]\n"
     ]
    },
    {
     "data": {
      "text/html": [
       "<div>\n",
       "<style scoped>\n",
       "    .dataframe tbody tr th:only-of-type {\n",
       "        vertical-align: middle;\n",
       "    }\n",
       "\n",
       "    .dataframe tbody tr th {\n",
       "        vertical-align: top;\n",
       "    }\n",
       "\n",
       "    .dataframe thead th {\n",
       "        text-align: right;\n",
       "    }\n",
       "</style>\n",
       "<table border=\"1\" class=\"dataframe\">\n",
       "  <thead>\n",
       "    <tr style=\"text-align: right;\">\n",
       "      <th></th>\n",
       "      <th>var1(t-3)</th>\n",
       "      <th>var2(t-3)</th>\n",
       "      <th>var3(t-3)</th>\n",
       "      <th>var1(t-2)</th>\n",
       "      <th>var2(t-2)</th>\n",
       "      <th>var3(t-2)</th>\n",
       "      <th>var1(t-1)</th>\n",
       "      <th>var2(t-1)</th>\n",
       "      <th>var3(t-1)</th>\n",
       "      <th>var1(t)</th>\n",
       "      <th>var2(t)</th>\n",
       "      <th>var3(t)</th>\n",
       "    </tr>\n",
       "  </thead>\n",
       "  <tbody>\n",
       "    <tr>\n",
       "      <th>3</th>\n",
       "      <td>0.575672</td>\n",
       "      <td>0.713895</td>\n",
       "      <td>0.245473</td>\n",
       "      <td>0.612657</td>\n",
       "      <td>0.746330</td>\n",
       "      <td>0.211940</td>\n",
       "      <td>0.634466</td>\n",
       "      <td>0.791634</td>\n",
       "      <td>0.273300</td>\n",
       "      <td>0.591003</td>\n",
       "      <td>0.659030</td>\n",
       "      <td>0.299502</td>\n",
       "    </tr>\n",
       "    <tr>\n",
       "      <th>4</th>\n",
       "      <td>0.612657</td>\n",
       "      <td>0.746330</td>\n",
       "      <td>0.211940</td>\n",
       "      <td>0.634466</td>\n",
       "      <td>0.791634</td>\n",
       "      <td>0.273300</td>\n",
       "      <td>0.591003</td>\n",
       "      <td>0.659030</td>\n",
       "      <td>0.299502</td>\n",
       "      <td>0.586918</td>\n",
       "      <td>0.654144</td>\n",
       "      <td>0.261061</td>\n",
       "    </tr>\n",
       "    <tr>\n",
       "      <th>5</th>\n",
       "      <td>0.634466</td>\n",
       "      <td>0.791634</td>\n",
       "      <td>0.273300</td>\n",
       "      <td>0.591003</td>\n",
       "      <td>0.659030</td>\n",
       "      <td>0.299502</td>\n",
       "      <td>0.586918</td>\n",
       "      <td>0.654144</td>\n",
       "      <td>0.261061</td>\n",
       "      <td>0.700234</td>\n",
       "      <td>0.654965</td>\n",
       "      <td>0.262106</td>\n",
       "    </tr>\n",
       "    <tr>\n",
       "      <th>6</th>\n",
       "      <td>0.591003</td>\n",
       "      <td>0.659030</td>\n",
       "      <td>0.299502</td>\n",
       "      <td>0.586918</td>\n",
       "      <td>0.654144</td>\n",
       "      <td>0.261061</td>\n",
       "      <td>0.700234</td>\n",
       "      <td>0.654965</td>\n",
       "      <td>0.262106</td>\n",
       "      <td>0.631073</td>\n",
       "      <td>0.762816</td>\n",
       "      <td>0.220232</td>\n",
       "    </tr>\n",
       "    <tr>\n",
       "      <th>7</th>\n",
       "      <td>0.586918</td>\n",
       "      <td>0.654144</td>\n",
       "      <td>0.261061</td>\n",
       "      <td>0.700234</td>\n",
       "      <td>0.654965</td>\n",
       "      <td>0.262106</td>\n",
       "      <td>0.631073</td>\n",
       "      <td>0.762816</td>\n",
       "      <td>0.220232</td>\n",
       "      <td>0.715477</td>\n",
       "      <td>0.860214</td>\n",
       "      <td>0.211609</td>\n",
       "    </tr>\n",
       "  </tbody>\n",
       "</table>\n",
       "</div>"
      ],
      "text/plain": [
       "   var1(t-3)  var2(t-3)  var3(t-3)  var1(t-2)  var2(t-2)  var3(t-2)  \\\n",
       "3   0.575672   0.713895   0.245473   0.612657   0.746330   0.211940   \n",
       "4   0.612657   0.746330   0.211940   0.634466   0.791634   0.273300   \n",
       "5   0.634466   0.791634   0.273300   0.591003   0.659030   0.299502   \n",
       "6   0.591003   0.659030   0.299502   0.586918   0.654144   0.261061   \n",
       "7   0.586918   0.654144   0.261061   0.700234   0.654965   0.262106   \n",
       "\n",
       "   var1(t-1)  var2(t-1)  var3(t-1)   var1(t)   var2(t)   var3(t)  \n",
       "3   0.634466   0.791634   0.273300  0.591003  0.659030  0.299502  \n",
       "4   0.591003   0.659030   0.299502  0.586918  0.654144  0.261061  \n",
       "5   0.586918   0.654144   0.261061  0.700234  0.654965  0.262106  \n",
       "6   0.700234   0.654965   0.262106  0.631073  0.762816  0.220232  \n",
       "7   0.631073   0.762816   0.220232  0.715477  0.860214  0.211609  "
      ]
     },
     "execution_count": 16,
     "metadata": {},
     "output_type": "execute_result"
    }
   ],
   "source": [
    "scaler = MinMaxScaler()\n",
    "scaled = scaler.fit_transform(df_og)\n",
    "print(scaled[:5])\n",
    "reframed = to_supervised(scaled, 3, 2).iloc[:, :-3]\n",
    "reframed.head()"
   ]
  },
  {
   "cell_type": "code",
   "execution_count": 17,
   "metadata": {},
   "outputs": [
    {
     "data": {
      "text/plain": [
       "(375, 9)"
      ]
     },
     "execution_count": 17,
     "metadata": {},
     "output_type": "execute_result"
    }
   ],
   "source": [
    "reframed.iloc[:, :-3].shape"
   ]
  },
  {
   "cell_type": "code",
   "execution_count": 18,
   "metadata": {},
   "outputs": [],
   "source": [
    "train_len = int(df_og.shape[0] * 0.8)\n",
    "scaler = MinMaxScaler()\n",
    "predictors = scaler.fit_transform(to_supervised(df_og.iloc[:train_len, :], 3, 1).iloc[:, :-3])\n",
    "test_predictors = scaler.fit_transform(to_supervised(df_og.iloc[train_len:], 3, 1).iloc[:, :-3])\n",
    "target = to_supervised(df_og.values[:train_len, -1:], 3, 1).iloc[:, -1:]\n",
    "test_target = to_supervised(df_og.values[train_len:, -1:], 3, 1).iloc[:, -1:]"
   ]
  },
  {
   "cell_type": "code",
   "execution_count": 19,
   "metadata": {},
   "outputs": [
    {
     "name": "stdout",
     "output_type": "stream",
     "text": [
      "(300, 1, 9)\n",
      "(73, 1, 9)\n",
      "(300, 1, 1)\n",
      "(73, 1, 1)\n"
     ]
    }
   ],
   "source": [
    "predictors_reshaped = predictors.reshape((predictors.shape[0], 1, predictors.shape[1]))\n",
    "target_reshaped = target.values.reshape((target.shape[0], 1, target.shape[1]))\n",
    "test_predictors_reshaped = test_predictors.reshape((test_predictors.shape[0], 1, test_predictors.shape[1]))\n",
    "test_target_reshaped = test_target.values.reshape((test_target.shape[0], 1, test_target.shape[1]))\n",
    "print(predictors_reshaped.shape)\n",
    "print(test_predictors_reshaped.shape)\n",
    "print(target_reshaped.shape)\n",
    "print(test_target_reshaped.shape)"
   ]
  },
  {
   "cell_type": "code",
   "execution_count": 20,
   "metadata": {},
   "outputs": [],
   "source": [
    "def find_factorial(n):\n",
    "    '''\n",
    "    Find the factors of a number for appropriate batch sizes.\n",
    "    ----\n",
    "    n: the number to find factorial\n",
    "    ----\n",
    "    returns list\n",
    "    '''\n",
    "    factorials = [i for i in range(1, n +1) if n % i == 0]\n",
    "    \n",
    "    return factorials"
   ]
  },
  {
   "cell_type": "code",
   "execution_count": 21,
   "metadata": {},
   "outputs": [
    {
     "data": {
      "text/plain": [
       "[1, 2, 3, 4, 5, 6, 10, 12, 15, 20, 25, 30, 50, 60, 75, 100, 150, 300]"
      ]
     },
     "execution_count": 21,
     "metadata": {},
     "output_type": "execute_result"
    }
   ],
   "source": [
    "find_factorial(predictors_reshaped.shape[0])"
   ]
  },
  {
   "cell_type": "code",
   "execution_count": 22,
   "metadata": {
    "scrolled": false
   },
   "outputs": [
    {
     "name": "stdout",
     "output_type": "stream",
     "text": [
      "WARNING:tensorflow:From C:\\Users\\Moriko\\AppData\\Local\\Continuum\\anaconda3\\envs\\tf_gpu\\lib\\site-packages\\tensorflow\\python\\framework\\op_def_library.py:263: colocate_with (from tensorflow.python.framework.ops) is deprecated and will be removed in a future version.\n",
      "Instructions for updating:\n",
      "Colocations handled automatically by placer.\n",
      "WARNING:tensorflow:From C:\\Users\\Moriko\\AppData\\Local\\Continuum\\anaconda3\\envs\\tf_gpu\\lib\\site-packages\\keras\\backend\\tensorflow_backend.py:3445: calling dropout (from tensorflow.python.ops.nn_ops) with keep_prob is deprecated and will be removed in a future version.\n",
      "Instructions for updating:\n",
      "Please use `rate` instead of `keep_prob`. Rate should be set to `rate = 1 - keep_prob`.\n",
      "WARNING:tensorflow:From C:\\Users\\Moriko\\AppData\\Local\\Continuum\\anaconda3\\envs\\tf_gpu\\lib\\site-packages\\tensorflow\\python\\ops\\math_ops.py:3066: to_int32 (from tensorflow.python.ops.math_ops) is deprecated and will be removed in a future version.\n",
      "Instructions for updating:\n",
      "Use tf.cast instead.\n"
     ]
    },
    {
     "data": {
      "image/png": "[encoded data removed]",
      "text/plain": [
       "<Figure size 432x288 with 1 Axes>"
      ]
     },
     "metadata": {
      "needs_background": "light"
     },
     "output_type": "display_data"
    },
    {
     "data": {
      "image/png": "[encoded data removed]",
      "text/plain": [
       "<Figure size 432x288 with 1 Axes>"
      ]
     },
     "metadata": {
      "needs_background": "light"
     },
     "output_type": "display_data"
    },
    {
     "data": {
      "image/png": "[encoded data removed]",
      "text/plain": [
       "<Figure size 432x288 with 1 Axes>"
      ]
     },
     "metadata": {
      "needs_background": "light"
     },
     "output_type": "display_data"
    }
   ],
   "source": [
    "##### design network\n",
    "model = Sequential()\n",
    "\n",
    "#13\n",
    "model.add(CuDNNLSTM(13, input_shape=(predictors_reshaped.shape[1:]), kernel_regularizer=l2(0.001), return_sequences=True))\n",
    "model.add(BatchNormalization())\n",
    "\n",
    "model.add(Dense(13, activation='linear', activity_regularizer=l2(0.01)))\n",
    "model.add(Dropout(0.1))\n",
    "\n",
    "model.add(CuDNNLSTM(7, input_shape=(predictors_reshaped.shape[1:]),activity_regularizer=l2(0.001), return_sequences=True))\n",
    "\n",
    "model.add(Dense(13, activation='linear'))\n",
    "model.add(Dropout(0.1))\n",
    "\n",
    "model.add(Dense(1, activation='linear'))\n",
    "\n",
    "adam = keras.optimizers.Adam(lr=0.01)\n",
    "sgd = keras.optimizers.sgd(lr=0.01, decay=-0.001, momentum=0.1)\n",
    "\n",
    "model.compile(loss='mae', optimizer='adam')\n",
    "earlystopping = EarlyStopping(patience=3)\n",
    "# fit network\n",
    "history = model.fit(predictors_reshaped, target_reshaped, epochs=50, verbose=False)\n",
    "\n",
    "# plot history\n",
    "plt.plot(history.history['loss'], label='Training')\n",
    "plt.xlabel('Epochs')\n",
    "plt.ylabel('MAE')\n",
    "plt.title('MAE/Epoch')\n",
    "plt.legend()\n",
    "plt.show();\n",
    "\n",
    "train_pred = model.predict(predictors_reshaped)\n",
    "train_pred = train_pred.reshape((train_pred.shape[0], 1))\n",
    "\n",
    "plt.figure()\n",
    "plt.plot(target.index, target, label='Actual')\n",
    "plt.plot(target.index, train_pred, label='Train')\n",
    "plt.xlabel('Date')\n",
    "plt.ylabel('Price(Milk)')\n",
    "plt.title('Milk Prices Actual vs Testing')\n",
    "plt.legend()\n",
    "plt.show;\n",
    "\n",
    "\n",
    "test_pred = model.predict(test_predictors_reshaped)\n",
    "test_pred = test_pred.reshape((test_pred.shape[0], 1))\n",
    "\n",
    "plt.figure()\n",
    "plt.plot(test_target.index, test_target, label='Actual')\n",
    "plt.plot(test_target.index, test_pred, label='Test')\n",
    "plt.xlabel('Date')\n",
    "plt.ylabel('Price(Milk)')\n",
    "plt.title('Milk Prices Actual vs Testing')\n",
    "plt.legend()\n",
    "plt.show;\n"
   ]
  },
  {
   "cell_type": "code",
   "execution_count": null,
   "metadata": {},
   "outputs": [],
   "source": []
  }
 ],
 "metadata": {
  "kernelspec": {
   "display_name": "Python 3",
   "language": "python",
   "name": "python3"
  },
  "language_info": {
   "codemirror_mode": {
    "name": "ipython",
    "version": 3
   },
   "file_extension": ".py",
   "mimetype": "text/x-python",
   "name": "python",
   "nbconvert_exporter": "python",
   "pygments_lexer": "ipython3",
   "version": "3.7.3"
  }
 },
 "nbformat": 4,
 "nbformat_minor": 2
}
